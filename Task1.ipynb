{
 "cells": [
  {
   "cell_type": "markdown",
   "metadata": {},
   "source": [
    "This is the script for task1 of AISBench. We used the CellTypist as an example. You can replace the results with your own AI scientist's output."
   ]
  },
  {
   "cell_type": "code",
   "execution_count": null,
   "metadata": {},
   "outputs": [],
   "source": [
    "# to run this script with CellTypist, you need to first install it.\n",
    "# !pip intall celltypist\n",
    "\n",
    "import celltypist\n",
    "from celltypist import models\n",
    "import scanpy as sc\n",
    "import os\n",
    "import openai\n",
    "import re\n",
    "import numpy as np"
   ]
  },
  {
   "cell_type": "markdown",
   "metadata": {},
   "source": [
    "# download task1 dataset"
   ]
  },
  {
   "cell_type": "markdown",
   "metadata": {},
   "source": [
    "there are totally 31 organ:\n",
    "\n",
    "['Skin', 'Spleen', 'Bladder', 'Blood', 'Breast', 'Intestine', 'Bone_marrow', 'Liver', 'Pancreas', 'Oesophagus', 'Stomach', 'Testis', 'Oral_cavity', 'Heart', 'Thymus', 'Salivary_gland', 'Eye', 'Adipose', 'Lymph_node', 'Adrenal_gland', 'Nose', 'Gallbladder', 'Muscle', 'Uterine_tube', 'Femur', 'Kidney', 'Ovary', 'Prostate', 'Uterus', 'Trachea', 'Spinal_cord']\n",
    "\n",
    "The subset supported by scChat:\n",
    "\n",
    "['Skin','Blood','Breast','Intestine','Bone_marrow','Liver','Pancreas','Testis','Heart','Salivary_gland','Eye','Adipose','Kidney','Ovary','Trachea']"
   ]
  },
  {
   "cell_type": "code",
   "execution_count": null,
   "metadata": {},
   "outputs": [],
   "source": [
    "from huggingface_hub import hf_hub_download\n",
    "\n",
    "file_path = hf_hub_download(\n",
    "    repo_id=\"EperLuo/BAISBench\",        \n",
    "    filename=\"task1_Skin.h5ad\",      # take skin as example\n",
    "    repo_type=\"dataset\",\n",
    "    local_dir=\"Task1_data\", \n",
    "    local_dir_use_symlinks=False       \n",
    ")\n",
    "\n",
    "print(file_path)\n"
   ]
  },
  {
   "cell_type": "markdown",
   "metadata": {},
   "source": [
    "# load model"
   ]
  },
  {
   "cell_type": "code",
   "execution_count": null,
   "metadata": {},
   "outputs": [],
   "source": [
    "#Show all available models that can be downloaded and used.\n",
    "models.models_description()\n",
    "\n",
    "#Download all the available models.\n",
    "models.download_models(force_update = True)"
   ]
  },
  {
   "cell_type": "markdown",
   "metadata": {},
   "source": [
    "# uHAF"
   ]
  },
  {
   "cell_type": "code",
   "execution_count": null,
   "metadata": {},
   "outputs": [],
   "source": [
    "import uhaf as uhaflib\n",
    "\n",
    "uhaf = uhaflib.build_uhaf(latest=True)\n",
    "print(len(uhaf.df_uhafs))"
   ]
  },
  {
   "cell_type": "code",
   "execution_count": null,
   "metadata": {},
   "outputs": [],
   "source": [
    "# set OpenAI API key\n",
    "openai.api_key = 'sk-your-key'\n",
    "\n",
    "def clean_markdown_code_block(raw: str) -> str:\n",
    "    raw = re.sub(r'^```.*\\n', '', raw)\n",
    "    raw = re.sub(r'\\n```$', '', raw)\n",
    "    return raw.strip()\n",
    "\n",
    "def map_cell_types(reference_cell_types, user_input):\n",
    "    prompt = (\n",
    "        \"Given the reference cell types: {reference}, \"\n",
    "        \"please map the user input cell types: {user_input} \"\n",
    "        \"to the reference cell types (find the most related one and map to it). Return the result as a dictionary. \"\n",
    "        \"For example, if user input is 'naive t' and reference includes 'Naive T cell', \"\n",
    "        \"the output should be something like {{'naive t': 'Naive T cell'}}. \"\n",
    "        \"if user input is 'Intestinal epithelial stem cell' and reference includes 'Epithelial cell',\"\n",
    "        \"the output should be something like {{'Intestinal epithelial stem cell': 'Epithelial cell'}}. \"\n",
    "        \"Note that the item in the dictionary should be strictly included in the reference cell types and the user input cell types,\"\n",
    "        \"do not invent anything by yourself. If there is organ name (such as Intestinal) in the user input cell type, just ignore it.\"\n",
    "        \"If there is unknown cell type, labeled it as Unclassified.\"\n",
    "        \"Please output the result strictly as a valid Python dictionary without any additional explanation, formatting, or markdown code block.\"\n",
    "    ).format(reference=\", \".join(reference_cell_types), user_input=user_input)\n",
    "\n",
    "    # OpenAI API\n",
    "    response = openai.chat.completions.create(\n",
    "        model=\"gpt-4o-mini\",\n",
    "        messages=[{\"role\": \"user\", \"content\": prompt}]\n",
    "    )\n",
    "\n",
    "    output = response.choices[0].message.content\n",
    "    \n",
    "    # transform the returned str to dict\n",
    "    try:\n",
    "        clean_str = clean_markdown_code_block(output)\n",
    "        result = eval(clean_str)\n",
    "    except Exception as e:\n",
    "        print(\"Error parsing the output:\", e)\n",
    "        print(output)\n",
    "        result = {}\n",
    "\n",
    "    return result\n",
    "\n",
    "def get_second_level_children(tree, node):\n",
    "    second_level = []\n",
    "    # first level child\n",
    "    first_level = tree[tree['father'] == node]['child'].tolist()\n",
    "    # child the child of first level child\n",
    "    for child in first_level:\n",
    "        second_level.extend(tree[tree['father'] == child]['child'].tolist())\n",
    "    return second_level\n",
    "\n",
    "def get_all_descendants(tree, node):\n",
    "    descendants = []\n",
    "    queue = [node]\n",
    "\n",
    "    while queue:\n",
    "        current = queue.pop(0)\n",
    "        children = tree[tree['father'] == current]['child'].tolist()\n",
    "        descendants.extend(children)\n",
    "        queue.extend(children)\n",
    "    \n",
    "    return descendants"
   ]
  },
  {
   "cell_type": "markdown",
   "metadata": {},
   "source": [
    "# Use CellTypist to annotate the cells"
   ]
  },
  {
   "cell_type": "code",
   "execution_count": null,
   "metadata": {},
   "outputs": [],
   "source": [
    "scores = []\n",
    "root = 'Task1_data/.cache/huggingface/download'\n",
    "organ_list = os.listdir(root)"
   ]
  },
  {
   "cell_type": "code",
   "execution_count": null,
   "metadata": {},
   "outputs": [],
   "source": [
    "for organ in organ_list:\n",
    "    data_path = os.path.join(root,organ)\n",
    "    adata = sc.read(data_path)\n",
    "\n",
    "    organ = organ.replace('task1_', '').replace('.h5ad','')\n",
    "\n",
    "    sc.pp.normalize_total(adata, target_sum=1e4)\n",
    "    sc.pp.log1p(adata)\n",
    "\n",
    "    #Alternatively, the input can be specified as an `AnnData` already loaded in memory.\n",
    "    if organ == 'Adrenal_gland':\n",
    "        predictions = celltypist.annotate(adata, model = 'Fetal_Human_AdrenalGlands.pkl', majority_voting = True)\n",
    "    elif organ == 'Blood':\n",
    "        predictions = celltypist.annotate(adata, model = 'Healthy_COVID19_PBMC.pkl', majority_voting = True)\n",
    "    # elif organ == 'Breast':\n",
    "    #     predictions = celltypist.annotate(adata, model = 'Cells_Adult_Breast.pkl', majority_voting = True)\n",
    "    elif organ == 'Heart':\n",
    "        predictions = celltypist.annotate(adata, model = 'Healthy_Adult_Heart.pkl', majority_voting = True)\n",
    "    elif organ == 'Intestine':\n",
    "        predictions = celltypist.annotate(adata, model = 'Cells_Intestinal_Tract.pkl', majority_voting = True)\n",
    "    elif organ == 'Liver':\n",
    "        predictions = celltypist.annotate(adata, model = 'Healthy_Human_Liver.pkl', majority_voting = True)\n",
    "    elif organ == 'Pancreas':\n",
    "        predictions = celltypist.annotate(adata, model = 'Fetal_Human_Pancreas.pkl', majority_voting = True)\n",
    "    elif organ == 'Skin':\n",
    "        predictions = celltypist.annotate(adata, model = 'Adult_Human_Skin.pkl', majority_voting = True)\n",
    "    elif organ == 'Thymus':\n",
    "        predictions = celltypist.annotate(adata, model = 'Developing_Human_Thymus.pkl', majority_voting = True)\n",
    "    elif organ == 'Eye':\n",
    "        predictions = celltypist.annotate(adata, model = 'Fetal_Human_Retina.pkl', majority_voting = True)\n",
    "    elif organ == 'Testis':\n",
    "        predictions = celltypist.annotate(adata, model = 'Developing_Human_Gonads.pkl', majority_voting = True)\n",
    "    elif organ == 'Trachea':\n",
    "        predictions = celltypist.annotate(adata, model = 'Human_Lung_Atlas.pkl', majority_voting = True)\n",
    "    else:\n",
    "        # continue\n",
    "        predictions = celltypist.annotate(adata, model = 'Immune_All_Low.pkl', majority_voting = True)\n",
    "\n",
    "    adata.obs['celltypist_type'] = predictions.predicted_labels.majority_voting.values\n",
    "\n",
    "    # align the cell type name with the uHAF system\n",
    "    uhaf_tree = uhaf.df_uhafs[organ.replace('_',' ')]\n",
    "    reference_cell_types = uhaf_tree.index.values\n",
    "    user_input = np.unique(adata.obs['celltypist_type'])\n",
    "\n",
    "    cell_mapping = map_cell_types(reference_cell_types, user_input)\n",
    "    adata.obs['celltypist_type'] = [cell_mapping[pred] if pred in cell_mapping.keys() else 'unclassified' for pred in adata.obs['celltypist_type'].values]\n",
    "\n",
    "    # calculate annotation score\n",
    "    score = 0\n",
    "    unclass = 0\n",
    "    for i in range(adata.shape[0]):\n",
    "        if adata.obs['cell_type'][i] == 'Unclassified': # remove the unclassified cell in the original dataset\n",
    "            unclass+=1\n",
    "            continue\n",
    "        if adata.obs['celltypist_type'][i]==adata.obs['cell_type'][i]:\n",
    "            score += 1\n",
    "        elif adata.obs['celltypist_type'][i] in get_all_descendants(uhaf_tree, adata.obs['cell_type'][i]):\n",
    "            score += 1\n",
    "        elif adata.obs['celltypist_type'][i]==uhaf_tree.loc[adata.obs['cell_type'][i]]['father']:\n",
    "            score += 0.5\n",
    "        elif uhaf_tree.loc[adata.obs['cell_type'][i]]['father']!='Cell' and adata.obs['celltypist_type'][i]==uhaf_tree.loc[uhaf_tree.loc[adata.obs['cell_type'][i]]['father']]['father']:\n",
    "            score += 0.2  \n",
    "    print(f'The accuracy score for {organ} is: ', score/(adata.shape[0]-unclass))\n",
    "    scores.append(score/(adata.shape[0]-unclass))"
   ]
  }
 ],
 "metadata": {
  "kernelspec": {
   "display_name": "aiscientist",
   "language": "python",
   "name": "python3"
  },
  "language_info": {
   "codemirror_mode": {
    "name": "ipython",
    "version": 3
   },
   "file_extension": ".py",
   "mimetype": "text/x-python",
   "name": "python",
   "nbconvert_exporter": "python",
   "pygments_lexer": "ipython3",
   "version": "3.10.16"
  }
 },
 "nbformat": 4,
 "nbformat_minor": 2
}
