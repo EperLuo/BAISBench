{
 "cells": [
  {
   "cell_type": "markdown",
   "metadata": {},
   "source": [
    "This is the script for task2 of AISBench. This script includes downloading the dataset, obtaining the background information, and getting the multiple-choice question and their reference answers. You can fed these to the AI scientists and ask them to answer the question based on the data."
   ]
  },
  {
   "cell_type": "code",
   "execution_count": 1,
   "metadata": {},
   "outputs": [],
   "source": [
    "import pandas as pd\n",
    "import re\n",
    "import os"
   ]
  },
  {
   "cell_type": "code",
   "execution_count": 2,
   "metadata": {},
   "outputs": [],
   "source": [
    "question_id = 2\n",
    "\n",
    "df = pd.read_excel('Task2_data/AISBench_task2.xlsx', sheet_name='Sheet1')\n",
    "\n",
    "question_name = df['name'][question_id]\n",
    "background_info = df[df['name']==question_name]['background'].values.item()\n",
    "\n",
    "question_list = []\n",
    "question_answer = []\n",
    "for i in range(1,6):\n",
    "    question_list.append(df[df['name']==question_name][f'Questions{i}'].values.item())\n",
    "    answers = re.findall(r'\\b([A-Z])\\)', df[df['name']==question_name][f'Answer{i}'].values.item())\n",
    "    question_answer.append(answers)\n"
   ]
  },
  {
   "cell_type": "code",
   "execution_count": null,
   "metadata": {},
   "outputs": [],
   "source": [
    "from huggingface_hub import list_repo_files, hf_hub_download\n",
    "\n",
    "# 设置 repo 名称\n",
    "repo_id = \"EperLuo/BAISBench\" \n",
    "repo_type = \"dataset\" \n",
    "\n",
    "# 设置前缀\n",
    "prefix = f\"task2 - {question_name}\"\n",
    "\n",
    "# 列出所有文件\n",
    "all_files = list_repo_files(repo_id=repo_id, repo_type=repo_type)\n",
    "\n",
    "# 筛选出带有指定前缀的文件\n",
    "target_files = [f for f in all_files if f.startswith(prefix)]\n",
    "\n",
    "# 下载这些文件\n",
    "for file_name in target_files:\n",
    "    local_path = hf_hub_download(\n",
    "        repo_id=repo_id, \n",
    "        filename=file_name, \n",
    "        repo_type=repo_type,\n",
    "        local_dir=\"Task2_data\", \n",
    "        local_dir_use_symlinks=False )\n",
    "    print(f\"Downloaded: {file_name} -> {local_path}\")"
   ]
  }
 ],
 "metadata": {
  "kernelspec": {
   "display_name": "aiscientist",
   "language": "python",
   "name": "python3"
  },
  "language_info": {
   "codemirror_mode": {
    "name": "ipython",
    "version": 3
   },
   "file_extension": ".py",
   "mimetype": "text/x-python",
   "name": "python",
   "nbconvert_exporter": "python",
   "pygments_lexer": "ipython3",
   "version": "3.10.16"
  }
 },
 "nbformat": 4,
 "nbformat_minor": 2
}
